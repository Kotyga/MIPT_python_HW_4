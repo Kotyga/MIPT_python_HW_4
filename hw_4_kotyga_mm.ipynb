{
  "cells": [
    {
      "cell_type": "markdown",
      "metadata": {
        "id": "view-in-github",
        "colab_type": "text"
      },
      "source": [
        "<a href=\"https://colab.research.google.com/github/Kotyga/MIPT_python_HW_4/blob/main/hw_4_kotyga_mm.ipynb\" target=\"_parent\"><img src=\"https://colab.research.google.com/assets/colab-badge.svg\" alt=\"Open In Colab\"/></a>"
      ]
    },
    {
      "cell_type": "markdown",
      "source": [
        "<div class=\"alert alert-info\">\n",
        "\n",
        "<center>\n",
        "Работа студента 1 курса магистратуры МФТИ <br/> Котыги Майи Максимовны\n",
        "</center>"
      ],
      "metadata": {
        "id": "JZ-T_8ZUHUJq"
      }
    },
    {
      "cell_type": "code",
      "execution_count": null,
      "metadata": {
        "id": "MXXTuy_o0sjk"
      },
      "outputs": [],
      "source": [
        "!pip install -q -U kaggle_environments"
      ]
    },
    {
      "cell_type": "code",
      "execution_count": null,
      "metadata": {
        "id": "F2RY28bv9siA"
      },
      "outputs": [],
      "source": [
        "import numpy as np\n",
        "import pandas as pd\n",
        "import random\n",
        "\n",
        "import matplotlib.pyplot as plt\n",
        "\n",
        "from kaggle_environments import make, evaluate"
      ]
    },
    {
      "cell_type": "code",
      "source": [
        "from IPython.core.magic import register_cell_magic\n",
        "\n",
        "@register_cell_magic\n",
        "def make_file(line, cell):\n",
        "    \"\"\"\n",
        "    Создает файл с указанным именем и записывает в него содержимое ячейки.\n",
        "\n",
        "    Параметры:\n",
        "    ----------\n",
        "    line : str\n",
        "        Имя файла, который будет создан. Путь к файлу должен быть указан без пробелов в начале и в конце.\n",
        "\n",
        "    cell : str\n",
        "        Содержимое ячейки, которое будет записано в файл. Это может быть любой текст.\n",
        "\n",
        "    Примечания:\n",
        "    ----------\n",
        "    Функция открывает файл в режиме записи ('w'). Если файл с указанным именем уже существует,\n",
        "    его содержимое будет перезаписано.\n",
        "    \"\"\"\n",
        "    file_name = line.strip()\n",
        "    with open(file_name, 'w') as f:\n",
        "        f.write(cell)\n"
      ],
      "metadata": {
        "id": "JvzlINI791MR"
      },
      "execution_count": null,
      "outputs": []
    },
    {
      "cell_type": "markdown",
      "source": [
        "В новой версии возникло предупреждение при использовании %%writefile:\n",
        "\n",
        "> /usr/local/lib/python3.10/dist-packages/ipykernel/ipkernel.py:283: DeprecationWarning: `should_run_async` will not call `transform_cell` automatically in the future. Please pass the result to `transformed_cell` argument and any exception that happen during thetransform in `preprocessing_exc_tuple` in IPython 7.17 and above.\n",
        "  and should_run_async(code)\n",
        "\n",
        "Поэтому напишу кастомную функцию, которая повторяет функционал этого блока кода"
      ],
      "metadata": {
        "id": "zHloFJ9l9w1-"
      }
    },
    {
      "cell_type": "markdown",
      "metadata": {
        "id": "0kuo6IOxiRub"
      },
      "source": [
        "### 1. Агент всегда играет \"камень\""
      ]
    },
    {
      "cell_type": "code",
      "execution_count": null,
      "metadata": {
        "id": "bqTqV7B92rJ6"
      },
      "outputs": [],
      "source": [
        "%%make_file rock_agent.py\n",
        "\n",
        "def rock_agent(observation, configuration):\n",
        "    \"\"\"\n",
        "    Агент, который всегда выбирает камень в игре «камень-ножницы-бумага».\n",
        "\n",
        "    Параметры:\n",
        "    ----------\n",
        "    observation : object\n",
        "        Объект, содержащий информацию о текущем состоянии игры, включая шаги и действия противника.\n",
        "\n",
        "    configuration : object\n",
        "        Объект, содержащий настройки игры, такие как количество доступных знаков.\n",
        "\n",
        "    Возвращает:\n",
        "    ----------\n",
        "    int\n",
        "        Возвращает 0, что соответствует выбору камня.\n",
        "    \"\"\"\n",
        "    return 0\n"
      ]
    },
    {
      "cell_type": "code",
      "execution_count": null,
      "metadata": {
        "colab": {
          "base_uri": "https://localhost:8080/"
        },
        "id": "Rro4EgRW9siF",
        "outputId": "760c9a96-63cb-4911-8007-19584be8ea60"
      },
      "outputs": [
        {
          "output_type": "execute_result",
          "data": {
            "text/plain": [
              "[[-98.0, 98.0]]"
            ]
          },
          "metadata": {},
          "execution_count": 5
        }
      ],
      "source": [
        "evaluate(\n",
        "    \"rps\", #environment to use - no need to change\n",
        "    [\"rock_agent.py\", \"statistical\"], #agents to evaluate\n",
        "    configuration={\"episodeSteps\": 100}, #number of episodes\n",
        ")"
      ]
    },
    {
      "cell_type": "markdown",
      "metadata": {
        "id": "CZDUmTITyV8G"
      },
      "source": [
        "### 2. Агент всегда играет \"бумагу\""
      ]
    },
    {
      "cell_type": "code",
      "execution_count": null,
      "metadata": {
        "id": "eoMyw2lEyU82"
      },
      "outputs": [],
      "source": [
        "%%make_file paper_agent.py\n",
        "\n",
        "def paper_agent(observation, configuration):\n",
        "    \"\"\"\n",
        "    Агент, который всегда выбирает бумагу в игре «камень-ножницы-бумага».\n",
        "\n",
        "    Параметры:\n",
        "    ----------\n",
        "    observation : object\n",
        "        Объект, содержащий информацию о текущем состоянии игры, включая шаги и действия противника.\n",
        "\n",
        "    configuration : object\n",
        "        Объект, содержащий настройки игры, такие как количество доступных знаков.\n",
        "\n",
        "    Возвращает:\n",
        "    ----------\n",
        "    int\n",
        "        Возвращает 1, что соответствует выбору бумаги.\n",
        "    \"\"\"\n",
        "    return 1"
      ]
    },
    {
      "cell_type": "code",
      "execution_count": null,
      "metadata": {
        "colab": {
          "base_uri": "https://localhost:8080/"
        },
        "id": "Coq1Ww-C9siH",
        "outputId": "7576c6d5-6f38-4487-f271-6ca566edeaab"
      },
      "outputs": [
        {
          "output_type": "execute_result",
          "data": {
            "text/plain": [
              "[[-97.0, 97.0]]"
            ]
          },
          "metadata": {},
          "execution_count": 7
        }
      ],
      "source": [
        "evaluate(\n",
        "    \"rps\", #environment to use - no need to change\n",
        "    [\"paper_agent.py\", \"statistical\"], #agents to evaluate\n",
        "    configuration={\"episodeSteps\": 100} #number of episodes\n",
        ")"
      ]
    },
    {
      "cell_type": "markdown",
      "metadata": {
        "id": "gYcq1iInyl6M"
      },
      "source": [
        "### 3. Агент всегда играет \"ножницы\""
      ]
    },
    {
      "cell_type": "code",
      "execution_count": null,
      "metadata": {
        "id": "07C09HaWypWl"
      },
      "outputs": [],
      "source": [
        "%%make_file scissors_agent.py\n",
        "\n",
        "def scissors_agent(observation, configuration):\n",
        "    \"\"\"\n",
        "    Агент, который всегда выбирает ножницы в игре «камень-ножницы-бумага».\n",
        "\n",
        "    Параметры:\n",
        "    ----------\n",
        "    observation : object\n",
        "        Объект, содержащий информацию о текущем состоянии игры, включая шаги и действия противника.\n",
        "\n",
        "    configuration : object\n",
        "        Объект, содержащий настройки игры, такие как количество доступных знаков.\n",
        "\n",
        "    Возвращает:\n",
        "    ----------\n",
        "    int\n",
        "        Возвращает 2, что соответствует выбору ножниц.\n",
        "    \"\"\"\n",
        "    return 2"
      ]
    },
    {
      "cell_type": "code",
      "execution_count": null,
      "metadata": {
        "colab": {
          "base_uri": "https://localhost:8080/"
        },
        "id": "4OKTQg389siJ",
        "outputId": "a878c7b3-da06-493b-8d63-7f8a555eebce"
      },
      "outputs": [
        {
          "output_type": "execute_result",
          "data": {
            "text/plain": [
              "[[-99.0, 99.0]]"
            ]
          },
          "metadata": {},
          "execution_count": 9
        }
      ],
      "source": [
        "evaluate(\n",
        "    \"rps\", #environment to use - no need to change\n",
        "    [\"scissors_agent.py\", \"statistical\"], #agents to evaluate\n",
        "    configuration={\"episodeSteps\": 100}, #number of episodes\n",
        ")"
      ]
    },
    {
      "cell_type": "markdown",
      "metadata": {
        "id": "F_veTp0q0EB8"
      },
      "source": [
        "### 4. Агент всегда играет разные значения"
      ]
    },
    {
      "cell_type": "code",
      "execution_count": null,
      "metadata": {
        "id": "T67y0KG_0Hoo"
      },
      "outputs": [],
      "source": [
        "%%make_file random_opponent.py\n",
        "\n",
        "import random\n",
        "\n",
        "def random_opponent(observation, configuration):\n",
        "    \"\"\"\n",
        "    Агент, который выбирает случайный ход в игре «камень-ножницы-бумага».\n",
        "\n",
        "    Параметры:\n",
        "    ----------\n",
        "    observation : object\n",
        "        Объект, содержащий информацию о текущем состоянии игры, включая шаги и действия противника.\n",
        "\n",
        "    configuration : object\n",
        "        Объект, содержащий настройки игры, такие как количество доступных знаков.\n",
        "\n",
        "    Возвращает:\n",
        "    ----------\n",
        "    int\n",
        "        Возвращает случайное целое число, соответствующее одному из доступных ходов:\n",
        "        0 - камень, 1 - бумага, 2 - ножницы.\n",
        "    \"\"\"\n",
        "    return random.randrange(0, configuration.signs)"
      ]
    },
    {
      "cell_type": "code",
      "execution_count": null,
      "metadata": {
        "colab": {
          "base_uri": "https://localhost:8080/"
        },
        "id": "X6ENZIuE9siK",
        "outputId": "ffe641e0-8a58-4619-e419-82f315ef84fe"
      },
      "outputs": [
        {
          "output_type": "execute_result",
          "data": {
            "text/plain": [
              "[[0, 0]]"
            ]
          },
          "metadata": {},
          "execution_count": 11
        }
      ],
      "source": [
        "evaluate(\n",
        "    \"rps\", #environment to use - no need to change\n",
        "    [\"random_opponent.py\", \"statistical\"], #agents to evaluate\n",
        "    configuration={\"episodeSteps\": 100}, #number of episodes\n",
        ")"
      ]
    },
    {
      "cell_type": "markdown",
      "metadata": {
        "id": "et1J5hUGigeh"
      },
      "source": [
        "### 5. Агент производит то же действие, что и оппонент на прошлом ходу"
      ]
    },
    {
      "cell_type": "code",
      "execution_count": null,
      "metadata": {
        "id": "7l6Ttw6qi0jk"
      },
      "outputs": [],
      "source": [
        "%%make_file copy_opponent.py\n",
        "\n",
        "import random\n",
        "\n",
        "def copy_opponent(observation, configuration):\n",
        "    \"\"\"\n",
        "    Агент, который повторяет последний ход противника в игре «камень-ножницы-бумага».\n",
        "\n",
        "    Параметры:\n",
        "    ----------\n",
        "    observation : object\n",
        "        Объект, содержащий информацию о текущем состоянии игры, включая шаги и действия противника.\n",
        "\n",
        "    configuration : object\n",
        "        Объект, содержащий настройки игры, такие как количество доступных знаков.\n",
        "\n",
        "    Возвращает:\n",
        "    ----------\n",
        "    int\n",
        "        Возвращает последний ход противника, если это не первый шаг игры.\n",
        "        В противном случае возвращает случайное целое число, соответствующее одному из доступных ходов:\n",
        "        0 - камень, 1 - бумага, 2 - ножницы.\n",
        "    \"\"\"\n",
        "    if observation.step > 0:\n",
        "        return observation.lastOpponentAction\n",
        "    else:\n",
        "        return random.randrange(0, configuration.signs)"
      ]
    },
    {
      "cell_type": "code",
      "execution_count": null,
      "metadata": {
        "colab": {
          "base_uri": "https://localhost:8080/"
        },
        "id": "25lEljBl9siL",
        "outputId": "e37bc10d-1eb1-43b2-9acf-b0c9fffa9cf7"
      },
      "outputs": [
        {
          "output_type": "execute_result",
          "data": {
            "text/plain": [
              "[[-22.0, 22.0]]"
            ]
          },
          "metadata": {},
          "execution_count": 13
        }
      ],
      "source": [
        "evaluate(\n",
        "    \"rps\", #environment to use - no need to change\n",
        "    [\"copy_opponent.py\", \"statistical\"], #agents to evaluate\n",
        "    configuration={\"episodeSteps\": 100}, #number of episodes\n",
        ")"
      ]
    },
    {
      "cell_type": "markdown",
      "metadata": {
        "id": "7sz2Oe2ry7yx"
      },
      "source": [
        "### 6. Агент производит действие + 1 к тому, что использовал оппонент на прошлом ходу"
      ]
    },
    {
      "cell_type": "code",
      "execution_count": null,
      "metadata": {
        "id": "VXkrB6bbzZbT"
      },
      "outputs": [],
      "source": [
        "%%make_file copynext_opponent.py\n",
        "\n",
        "import random\n",
        "\n",
        "\n",
        "def copynext_opponent(observation, configuration):\n",
        "    \"\"\"\n",
        "    Агент, который выбирает ход, следующий за последним ходом противника в игре «камень-ножницы-бумага».\n",
        "\n",
        "    Параметры:\n",
        "    ----------\n",
        "    observation : object\n",
        "        Объект, содержащий информацию о текущем состоянии игры, включая шаги и действия противника.\n",
        "\n",
        "    configuration : object\n",
        "        Объект, содержащий настройки игры, такие как количество доступных знаков.\n",
        "\n",
        "    Возвращает:\n",
        "    ----------\n",
        "    int\n",
        "        Возвращает ход, следующий за последним ходом противника:\n",
        "        - Если противник выбрал камень (0), агент выберет бумагу (1).\n",
        "        - Если противник выбрал бумагу (1), агент выберет ножницы (2).\n",
        "        - Если противник выбрал ножницы (2), агент выберет камень (0).\n",
        "        В случае первого хода возвращает случайное целое число, соответствующее одному из доступных ходов.\n",
        "    \"\"\"\n",
        "    if observation.step > 0:\n",
        "        return (observation.lastOpponentAction + 1) % configuration.signs\n",
        "    else:\n",
        "        return random.randrange(0, configuration.signs)"
      ]
    },
    {
      "cell_type": "code",
      "execution_count": null,
      "metadata": {
        "colab": {
          "base_uri": "https://localhost:8080/"
        },
        "id": "VMqestRi9siM",
        "outputId": "75492fe0-9d3c-419f-e45f-1dcd0355acf6"
      },
      "outputs": [
        {
          "output_type": "execute_result",
          "data": {
            "text/plain": [
              "[[57.0, -57.0]]"
            ]
          },
          "metadata": {},
          "execution_count": 15
        }
      ],
      "source": [
        "evaluate(\n",
        "    \"rps\", #environment to use - no need to change\n",
        "    [\"copynext_opponent.py\", \"statistical\"], #agents to evaluate\n",
        "    configuration={\"episodeSteps\": 100}, #number of episodes\n",
        ")"
      ]
    },
    {
      "cell_type": "markdown",
      "metadata": {
        "id": "UXX1qs3Y3pq9"
      },
      "source": [
        "### 7. Агент производит действие - 1 к тому, что использовал оппонент на прошлом ходу"
      ]
    },
    {
      "cell_type": "code",
      "execution_count": null,
      "metadata": {
        "id": "befWCH_53rPC"
      },
      "outputs": [],
      "source": [
        "%%make_file copyprevious_opponent.py\n",
        "\n",
        "import random\n",
        "\n",
        "def copyprevious_opponent(observation, configuration):\n",
        "    \"\"\"\n",
        "    Агент, который выбирает ход, побеждающий предыдущий ход противника в игре «камень-ножницы-бумага».\n",
        "\n",
        "    Параметры:\n",
        "    ----------\n",
        "    observation : object\n",
        "        Объект, содержащий информацию о текущем состоянии игры, включая шаги и действия противника.\n",
        "\n",
        "    configuration : object\n",
        "        Объект, содержащий настройки игры, такие как количество доступных знаков.\n",
        "\n",
        "    Возвращает:\n",
        "    ----------\n",
        "    int\n",
        "        Возвращает ход, побеждающий предыдущий ход противника:\n",
        "        - Если противник выбрал камень (0), агент выберет ножницы (2).\n",
        "        - Если противник выбрал бумагу (1), агент выберет камень (0).\n",
        "        - Если противник выбрал ножницы (2), агент выберет бумагу (1).\n",
        "        В случае первого хода возвращает случайное целое число, соответствующее одному из доступных ходов.\n",
        "    \"\"\"\n",
        "    if observation.step > 0:\n",
        "        return (observation.lastOpponentAction + 2) % configuration.signs\n",
        "    else:\n",
        "        return random.randrange(0, configuration.signs)"
      ]
    },
    {
      "cell_type": "code",
      "execution_count": null,
      "metadata": {
        "colab": {
          "base_uri": "https://localhost:8080/"
        },
        "id": "UETb9hRx9siM",
        "outputId": "01b57f95-ac8c-495a-ee36-8a58cbd92520"
      },
      "outputs": [
        {
          "output_type": "execute_result",
          "data": {
            "text/plain": [
              "[[-99.0, 99.0]]"
            ]
          },
          "metadata": {},
          "execution_count": 17
        }
      ],
      "source": [
        "evaluate(\n",
        "    \"rps\", #environment to use - no need to change\n",
        "    [\"copyprevious_opponent.py\", \"statistical\"], #agents to evaluate\n",
        "    configuration={\"episodeSteps\": 100}, #number of episodes\n",
        ")"
      ]
    },
    {
      "cell_type": "markdown",
      "metadata": {
        "id": "9xymvUMP9siN"
      },
      "source": [
        "### 8. Агент равновероятно играет то, что не выкинул противник на прошлом ходу"
      ]
    },
    {
      "cell_type": "code",
      "execution_count": null,
      "metadata": {
        "id": "Q_H0ommU9siN"
      },
      "outputs": [],
      "source": [
        "%%make_file opposit_agent.py\n",
        "\n",
        "import random\n",
        "\n",
        "def opposit_agent(observation, configuration):\n",
        "    \"\"\"\n",
        "    Агент, который выбирает ход, противоположный последнему ходу противника в игре «камень-ножницы-бумага».\n",
        "\n",
        "    Параметры:\n",
        "    ----------\n",
        "    observation : object\n",
        "        Объект, содержащий информацию о текущем состоянии игры, включая шаги и действия противника.\n",
        "\n",
        "    configuration : object\n",
        "        Объект, содержащий настройки игры, такие как количество доступных знаков.\n",
        "\n",
        "    Возвращает:\n",
        "    ----------\n",
        "    int\n",
        "        Возвращает ход, противоположный последнему ходу противника:\n",
        "        - Если противник выбрал камень (0), агент выбирает случайно между бумагой (1) и ножницами (2).\n",
        "        - Если противник выбрал бумагу (1), агент выбирает случайно между камнем (0) и ножницами (2).\n",
        "        - Если противник выбрал ножницы (2), агент выбирает случайно между бумагой (1) и камнем (0).\n",
        "        В случае первого хода возвращает случайное целое число, соответствующее одному из доступных ходов.\n",
        "    \"\"\"\n",
        "    if observation.step > 0:\n",
        "        if observation.lastOpponentAction == 0:\n",
        "            return random.choice([1, 2])\n",
        "        elif observation.lastOpponentAction == 1:\n",
        "            return random.choice([0, 2])\n",
        "        else:\n",
        "            return random.choice([1, 0])\n",
        "    else:\n",
        "        return random.randrange(0, configuration.signs)"
      ]
    },
    {
      "cell_type": "code",
      "execution_count": null,
      "metadata": {
        "colab": {
          "base_uri": "https://localhost:8080/"
        },
        "id": "bqcjH1H79siN",
        "outputId": "be74ab35-56f2-4c7d-8a52-9424e37d359a"
      },
      "outputs": [
        {
          "output_type": "execute_result",
          "data": {
            "text/plain": [
              "[[0, 0]]"
            ]
          },
          "metadata": {},
          "execution_count": 19
        }
      ],
      "source": [
        "evaluate(\n",
        "    \"rps\", #environment to use - no need to change\n",
        "    [\"opposit_agent.py\", \"statistical\"], #agents to evaluate\n",
        "    configuration={\"episodeSteps\": 100}, #number of episodes\n",
        ")"
      ]
    },
    {
      "cell_type": "markdown",
      "metadata": {
        "id": "UMkYCrDl5KAA"
      },
      "source": [
        "### 9. Агент выбрасывает три раза одно и то же, после чего меняет выбор на следующее случайное"
      ]
    },
    {
      "cell_type": "code",
      "execution_count": null,
      "metadata": {
        "id": "Tj5tEIw85UIN"
      },
      "outputs": [],
      "source": [
        "%%make_file random3_opponent.py\n",
        "\n",
        "import random\n",
        "\n",
        "counter = 0\n",
        "stable_sign = None\n",
        "\n",
        "def random3_opponent(observation, configuration):\n",
        "    \"\"\"\n",
        "    Агент, который делает случайные ходы с некоторой периодичностью.\n",
        "\n",
        "    Параметры:\n",
        "    ----------\n",
        "    observation : object\n",
        "        Объект, содержащий информацию о текущем состоянии игры, включая шаги и действия противника.\n",
        "\n",
        "    configuration : object\n",
        "        Объект, содержащий настройки игры, такие как количество доступных знаков.\n",
        "\n",
        "    Возвращает:\n",
        "    ----------\n",
        "    int\n",
        "        Возвращает целое число, соответствующее одному из доступных ходов:\n",
        "        0 - камень, 1 - бумага, 2 - ножницы.\n",
        "        На первом ходе и каждые три хода после двух ходов будет выбран случайный ход.\n",
        "    \"\"\"\n",
        "    global counter\n",
        "    global stable_sign\n",
        "\n",
        "    if observation.step == 0:\n",
        "        stable_sign = random.randrange(0, configuration.signs)\n",
        "    elif counter % 3 == 2:\n",
        "        stable_sign = random.randrange(0, configuration.signs)\n",
        "    counter += 1\n",
        "\n",
        "    return stable_sign"
      ]
    },
    {
      "cell_type": "code",
      "execution_count": null,
      "metadata": {
        "colab": {
          "base_uri": "https://localhost:8080/"
        },
        "id": "4S7OEalF9siO",
        "outputId": "0328f9c9-4e72-4a19-9ff9-7b2ad689950a"
      },
      "outputs": [
        {
          "output_type": "execute_result",
          "data": {
            "text/plain": [
              "[[-23.0, 23.0]]"
            ]
          },
          "metadata": {},
          "execution_count": 21
        }
      ],
      "source": [
        "evaluate(\n",
        "    \"rps\", #environment to use - no need to change\n",
        "    [\"random3_opponent.py\", \"statistical\"], #agents to evaluate\n",
        "    configuration={\"episodeSteps\": 100}, #number of episodes\n",
        ")"
      ]
    },
    {
      "cell_type": "markdown",
      "metadata": {
        "id": "nwSSgzoSzqCx"
      },
      "source": [
        "### 10. Агент производит то же действие, если выиграл, и меняет на +1, если нет"
      ]
    },
    {
      "cell_type": "code",
      "execution_count": null,
      "metadata": {
        "id": "kzNKEiGr2WUu"
      },
      "outputs": [],
      "source": [
        "%%make_file win_reaction1.py\n",
        "\n",
        "import math\n",
        "import random\n",
        "\n",
        "def get_score(left_move, right_move):\n",
        "    \"\"\"\n",
        "    Вычисляет результат сравнения двух ходов в игре «камень-ножницы-бумага».\n",
        "\n",
        "    Параметры:\n",
        "    ----------\n",
        "    left_move : int\n",
        "        Ход первого игрока (0 - камень, 1 - бумага, 2 - ножницы).\n",
        "\n",
        "    right_move : int\n",
        "        Ход второго игрока (0 - камень, 1 - бумага, 2 - ножницы).\n",
        "\n",
        "    Возвращает:\n",
        "    ----------\n",
        "    float\n",
        "        Возвращает 1, если первый игрок выигрывает, -1, если проигрывает,\n",
        "        и 0, если ничья.\n",
        "    \"\"\"\n",
        "    delta = (\n",
        "        right_move - left_move\n",
        "        if (left_move + right_move) % 2 == 0\n",
        "        else left_move - right_move\n",
        "    )\n",
        "    return 0 if delta == 0 else math.copysign(1, delta)\n",
        "\n",
        "lastAction = None\n",
        "\n",
        "def win_reaction1(observation, configuration):\n",
        "    \"\"\"\n",
        "    Агент, который реагирует на действия противника, изменяя свой ход в зависимости от предыдущих действий.\n",
        "\n",
        "    Параметры:\n",
        "    ----------\n",
        "    observation : object\n",
        "        Объект, содержащий информацию о текущем состоянии игры, включая шаги и действия противника.\n",
        "\n",
        "    configuration : object\n",
        "        Объект, содержащий настройки игры, такие как количество доступных знаков.\n",
        "\n",
        "    Возвращает:\n",
        "    ----------\n",
        "    int\n",
        "        Возвращает следующий ход агента, основываясь на его предыдущем ходе и ходе противника.\n",
        "        На первом ходе выбирается случайный ход. В последующих ходах агент изменяет свой ход,\n",
        "        если он не выиграл в предыдущем раунде.\n",
        "    \"\"\"\n",
        "    global lastAction\n",
        "    if observation.step == 0:\n",
        "        lastAction = random.randrange(0, configuration.signs)  # Случайный выбор на первом ходе\n",
        "    elif get_score(lastAction, observation.lastOpponentAction) < 1:\n",
        "        lastAction = (lastAction + 1) % configuration.signs  # Изменение хода в случае проигрыша\n",
        "    return lastAction"
      ]
    },
    {
      "cell_type": "code",
      "execution_count": null,
      "metadata": {
        "colab": {
          "base_uri": "https://localhost:8080/"
        },
        "id": "LPgnou9E9siP",
        "outputId": "d34d6df0-c961-448b-c836-5c01029f070d"
      },
      "outputs": [
        {
          "output_type": "execute_result",
          "data": {
            "text/plain": [
              "[[27.0, -27.0]]"
            ]
          },
          "metadata": {},
          "execution_count": 23
        }
      ],
      "source": [
        "evaluate(\n",
        "    \"rps\", #environment to use - no need to change\n",
        "    [\"win_reaction1.py\", \"statistical\"], #agents to evaluate\n",
        "    configuration={\"episodeSteps\": 100}, #number of episodes\n",
        ")"
      ]
    },
    {
      "cell_type": "markdown",
      "metadata": {
        "id": "Ix0jfnmI4UKF"
      },
      "source": [
        "### 11. Агент производит то же действие, если выиграл, и меняет на -1, если проиграл"
      ]
    },
    {
      "cell_type": "code",
      "execution_count": null,
      "metadata": {
        "id": "9z6JFjDV4XbM"
      },
      "outputs": [],
      "source": [
        "%%make_file win_reaction2.py\n",
        "\n",
        "import math\n",
        "import random\n",
        "\n",
        "def get_score(left_move, right_move):\n",
        "    \"\"\"\n",
        "    Вычисляет результат сравнения двух ходов в игре «камень-ножницы-бумага».\n",
        "\n",
        "    Параметры:\n",
        "    ----------\n",
        "    left_move : int\n",
        "        Ход первого игрока (0 - камень, 1 - бумага, 2 - ножницы).\n",
        "\n",
        "    right_move : int\n",
        "        Ход второго игрока (0 - камень, 1 - бумага, 2 - ножницы).\n",
        "\n",
        "    Возвращает:\n",
        "    ----------\n",
        "    float\n",
        "        Возвращает 1, если первый игрок выигрывает, -1, если проигрывает,\n",
        "        и 0, если ничья.\n",
        "    \"\"\"\n",
        "    delta = (\n",
        "        right_move - left_move\n",
        "        if (left_move + right_move) % 2 == 0\n",
        "        else left_move - right_move\n",
        "    )\n",
        "    return 0 if delta == 0 else math.copysign(1, delta)\n",
        "\n",
        "lastAction = None\n",
        "\n",
        "def win_reaction2(observation, configuration):\n",
        "    \"\"\"\n",
        "    Агент, который реагирует на действия противника, изменяя свой ход в зависимости от предыдущих действий.\n",
        "\n",
        "    Параметры:\n",
        "    ----------\n",
        "    observation : object\n",
        "        Объект, содержащий информацию о текущем состоянии игры, включая шаги и действия противника.\n",
        "\n",
        "    configuration : object\n",
        "        Объект, содержащий настройки игры, такие как количество доступных знаков.\n",
        "\n",
        "    Возвращает:\n",
        "    ----------\n",
        "    int\n",
        "        Возвращает следующий ход агента, основываясь на его предыдущем ходе и ходе противника.\n",
        "        На первом ходе выбирается случайный ход. В последующих ходах агент изменяет свой ход,\n",
        "        если он не выиграл в предыдущем раунде, выбирая ход, который побеждает предыдущий ход противника.\n",
        "    \"\"\"\n",
        "    global lastAction\n",
        "    if observation.step == 0:\n",
        "        lastAction = random.randrange(0, configuration.signs)  # Случайный выбор на первом ходе\n",
        "    elif get_score(lastAction, observation.lastOpponentAction) < 1:\n",
        "        lastAction = (lastAction + 2) % configuration.signs  # Изменение хода в случае проигрыша\n",
        "    return lastAction"
      ]
    },
    {
      "cell_type": "code",
      "execution_count": null,
      "metadata": {
        "colab": {
          "base_uri": "https://localhost:8080/"
        },
        "id": "m_KdPF-m9siP",
        "outputId": "6987daa3-7046-4b2d-d541-72a07745a211"
      },
      "outputs": [
        {
          "output_type": "execute_result",
          "data": {
            "text/plain": [
              "[[58.0, -58.0]]"
            ]
          },
          "metadata": {},
          "execution_count": 25
        }
      ],
      "source": [
        "evaluate(\n",
        "    \"rps\", #environment to use - no need to change\n",
        "    [\"win_reaction2.py\", \"statistical\"], #agents to evaluate\n",
        "    configuration={\"episodeSteps\": 100}, #number of episodes\n",
        ")"
      ]
    },
    {
      "cell_type": "markdown",
      "metadata": {
        "id": "VHfuloXJ4sQn"
      },
      "source": [
        "### 12. Агент производит то же действие, если выиграл, и меняет на действие оппонента, если проиграл"
      ]
    },
    {
      "cell_type": "code",
      "execution_count": null,
      "metadata": {
        "id": "cOKkhxDs4-3G"
      },
      "outputs": [],
      "source": [
        "%%make_file win_opposit1.py\n",
        "\n",
        "import math\n",
        "import random\n",
        "\n",
        "def get_score(left_move, right_move):\n",
        "    \"\"\"\n",
        "    Вычисляет результат сравнения двух ходов в игре «камень-ножницы-бумага».\n",
        "\n",
        "    Параметры:\n",
        "    ----------\n",
        "    left_move : int\n",
        "        Ход первого игрока (0 - камень, 1 - бумага, 2 - ножницы).\n",
        "\n",
        "    right_move : int\n",
        "        Ход второго игрока (0 - камень, 1 - бумага, 2 - ножницы).\n",
        "\n",
        "    Возвращает:\n",
        "    ----------\n",
        "    float\n",
        "        Возвращает 1, если первый игрок выигрывает, -1, если проигрывает,\n",
        "        и 0, если ничья.\n",
        "    \"\"\"\n",
        "    delta = (\n",
        "        right_move - left_move\n",
        "        if (left_move + right_move) % 2 == 0\n",
        "        else left_move - right_move\n",
        "    )\n",
        "    return 0 if delta == 0 else math.copysign(1, delta)\n",
        "\n",
        "lastAction = None\n",
        "\n",
        "def win_opposit1(observation, configuration):\n",
        "    \"\"\"\n",
        "    Агент, который выбирает ход, соответствующий последнему ходу противника в игре «камень-ножницы-бумага».\n",
        "\n",
        "    Параметры:\n",
        "    ----------\n",
        "    observation : object\n",
        "        Объект, содержащий информацию о текущем состоянии игры, включая шаги и действия противника.\n",
        "\n",
        "    configuration : object\n",
        "        Объект, содержащий настройки игры, такие как количество доступных знаков.\n",
        "\n",
        "    Возвращает:\n",
        "    ----------\n",
        "    int\n",
        "        Возвращает следующий ход агента, основываясь на его предыдущем ходе и ходе противника.\n",
        "        На первом ходе выбирается случайный ход. В последующих ходах агент выбирает ход,\n",
        "        соответствующий последнему ходу противника, если он не выиграл в предыдущем раунде.\n",
        "    \"\"\"\n",
        "    global lastAction\n",
        "    if observation.step == 0:\n",
        "        lastAction = random.randrange(0, configuration.signs)  # Случайный выбор на первом ходе\n",
        "    elif get_score(lastAction, observation.lastOpponentAction) < 1:\n",
        "        lastAction = observation.lastOpponentAction  # Повторяет последний ход противника\n",
        "    return lastAction"
      ]
    },
    {
      "cell_type": "code",
      "execution_count": null,
      "metadata": {
        "colab": {
          "base_uri": "https://localhost:8080/"
        },
        "id": "wPifHiLF9siQ",
        "outputId": "9f4e2102-9a61-403f-c979-01ce0ceda3d9"
      },
      "outputs": [
        {
          "output_type": "execute_result",
          "data": {
            "text/plain": [
              "[[-20.0, 20.0]]"
            ]
          },
          "metadata": {},
          "execution_count": 27
        }
      ],
      "source": [
        "evaluate(\n",
        "    \"rps\", #environment to use - no need to change\n",
        "    [\"win_opposit1.py\", \"statistical\"], #agents to evaluate\n",
        "    configuration={\"episodeSteps\": 100}, #number of episodes\n",
        ")"
      ]
    },
    {
      "cell_type": "markdown",
      "metadata": {
        "id": "c0UOpEBw9siQ"
      },
      "source": [
        "### 13. Агент производит то же действие, если проиграл, и меняет на действие оппонента, если выиграл"
      ]
    },
    {
      "cell_type": "code",
      "execution_count": null,
      "metadata": {
        "id": "UxtWy0Sh9siW"
      },
      "outputs": [],
      "source": [
        "%%make_file win_opposit2.py\n",
        "\n",
        "import math\n",
        "import random\n",
        "\n",
        "def get_score(left_move, right_move):\n",
        "    \"\"\"\n",
        "    Вычисляет результат сравнения двух ходов в игре «камень-ножницы-бумага».\n",
        "\n",
        "    Параметры:\n",
        "    ----------\n",
        "    left_move : int\n",
        "        Ход первого игрока (0 - камень, 1 - бумага, 2 - ножницы).\n",
        "\n",
        "    right_move : int\n",
        "        Ход второго игрока (0 - камень, 1 - бумага, 2 - ножницы).\n",
        "\n",
        "    Возвращает:\n",
        "    ----------\n",
        "    float\n",
        "        Возвращает 1, если первый игрок выигрывает, -1, если проигрывает,\n",
        "        и 0, если ничья.\n",
        "    \"\"\"\n",
        "    delta = (\n",
        "        right_move - left_move\n",
        "        if (left_move + right_move) % 2 == 0\n",
        "        else left_move - right_move\n",
        "    )\n",
        "    return 0 if delta == 0 else math.copysign(1, delta)\n",
        "\n",
        "lastAction = None\n",
        "\n",
        "def win_opposit2(observation, configuration):\n",
        "    \"\"\"\n",
        "    Агент, который выбирает ход, соответствующий последнему ходу противника, если он выигрывает.\n",
        "\n",
        "    Параметры:\n",
        "    ----------\n",
        "    observation : object\n",
        "        Объект, содержащий информацию о текущем состоянии игры, включая шаги и действия противника.\n",
        "\n",
        "    configuration : object\n",
        "        Объект, содержащий настройки игры, такие как количество доступных знаков.\n",
        "\n",
        "    Возвращает:\n",
        "    ----------\n",
        "    int\n",
        "        Возвращает следующий ход агента, основываясь на его предыдущем ходе и ходе противника.\n",
        "        На первом ходе выбирается случайный ход. В последующих ходах агент выбирает ход,\n",
        "        соответствующий последнему ходу противника, если он выиграл в предыдущем раунде.\n",
        "    \"\"\"\n",
        "    global lastAction\n",
        "    if observation.step == 0:\n",
        "        lastAction = random.randrange(0, configuration.signs)  # Случайный выбор на первом ходе\n",
        "    elif get_score(lastAction, observation.lastOpponentAction) == 1:\n",
        "        lastAction = observation.lastOpponentAction  # Повторяет последний ход противника, если выиграл\n",
        "    return lastAction"
      ]
    },
    {
      "cell_type": "code",
      "execution_count": null,
      "metadata": {
        "colab": {
          "base_uri": "https://localhost:8080/"
        },
        "id": "nGrvt5gw9siW",
        "outputId": "8161e38d-0670-4fe7-944e-bd70c8cb2ae9"
      },
      "outputs": [
        {
          "output_type": "execute_result",
          "data": {
            "text/plain": [
              "[[-99.0, 99.0]]"
            ]
          },
          "metadata": {},
          "execution_count": 29
        }
      ],
      "source": [
        "evaluate(\n",
        "    \"rps\", #environment to use - no need to change\n",
        "    [\"win_opposit2.py\", \"statistical\"], #agents to evaluate\n",
        "    configuration={\"episodeSteps\": 100}, #number of episodes\n",
        ")"
      ]
    },
    {
      "cell_type": "markdown",
      "metadata": {
        "id": "N7a0lWpc4-BT"
      },
      "source": [
        "### 14. Агент производит то же действие, если выиграл, и меняет на рандомное, если проиграл"
      ]
    },
    {
      "cell_type": "code",
      "execution_count": null,
      "metadata": {
        "id": "y40EtVd89siX"
      },
      "outputs": [],
      "source": [
        "%%make_file win_random1.py\n",
        "\n",
        "import math\n",
        "import random\n",
        "\n",
        "def get_score(left_move, right_move):\n",
        "    \"\"\"\n",
        "    Вычисляет результат сравнения двух ходов в игре «камень-ножницы-бумага».\n",
        "\n",
        "    Параметры:\n",
        "    ----------\n",
        "    left_move : int\n",
        "        Ход первого игрока (0 - камень, 1 - бумага, 2 - ножницы).\n",
        "\n",
        "    right_move : int\n",
        "        Ход второго игрока (0 - камень, 1 - бумага, 2 - ножницы).\n",
        "\n",
        "    Возвращает:\n",
        "    ----------\n",
        "    float\n",
        "        Возвращает 1, если первый игрок выигрывает, -1, если проигрывает,\n",
        "        и 0, если ничья.\n",
        "    \"\"\"\n",
        "    delta = (\n",
        "        right_move - left_move\n",
        "        if (left_move + right_move) % 2 == 0\n",
        "        else left_move - right_move\n",
        "    )\n",
        "    return 0 if delta == 0 else math.copysign(1, delta)\n",
        "\n",
        "lastAction = None\n",
        "\n",
        "def win_random1(observation, configuration):\n",
        "    \"\"\"\n",
        "    Агент, который выбирает случайный ход, если он не выиграл в предыдущем раунде.\n",
        "\n",
        "    Параметры:\n",
        "    ----------\n",
        "    observation : object\n",
        "        Объект, содержащий информацию о текущем состоянии игры, включая шаги и действия противника.\n",
        "\n",
        "    configuration : object\n",
        "        Объект, содержащий настройки игры, такие как количество доступных знаков.\n",
        "\n",
        "    Возвращает:\n",
        "    ----------\n",
        "    int\n",
        "        Возвращает следующий ход агента, основываясь на его предыдущем ходе и ходе противника.\n",
        "        На первом ходе или в случае проигрыша выбирается случайный ход.\n",
        "    \"\"\"\n",
        "    global lastAction\n",
        "    if observation.step == 0 or get_score(lastAction, observation.lastOpponentAction) < 1:\n",
        "        lastAction = random.randrange(0, configuration.signs)  # Случайный выбор\n",
        "    return lastAction"
      ]
    },
    {
      "cell_type": "code",
      "execution_count": null,
      "metadata": {
        "colab": {
          "base_uri": "https://localhost:8080/"
        },
        "id": "aYwLTdeI9siX",
        "outputId": "9b6b2f59-751d-425b-d364-6afe2099fe99"
      },
      "outputs": [
        {
          "output_type": "execute_result",
          "data": {
            "text/plain": [
              "[[28.0, -28.0]]"
            ]
          },
          "metadata": {},
          "execution_count": 31
        }
      ],
      "source": [
        "evaluate(\n",
        "    \"rps\", #environment to use - no need to change\n",
        "    [\"win_random1.py\", \"statistical\"], #agents to evaluate\n",
        "    configuration={\"episodeSteps\": 100}, #number of episodes\n",
        ")"
      ]
    },
    {
      "cell_type": "markdown",
      "metadata": {
        "id": "E6dchFDB5VrE"
      },
      "source": [
        "### 15. Агент производит то же действие, если проиграл, и меняет на рандомное, если выиграл"
      ]
    },
    {
      "cell_type": "code",
      "execution_count": null,
      "metadata": {
        "id": "uRivf88h9siX"
      },
      "outputs": [],
      "source": [
        "%%make_file win_random2.py\n",
        "\n",
        "import math\n",
        "import random\n",
        "\n",
        "def get_score(left_move, right_move):\n",
        "    \"\"\"\n",
        "    Вычисляет результат сравнения двух ходов в игре «камень-ножницы-бумага».\n",
        "\n",
        "    Параметры:\n",
        "    ----------\n",
        "    left_move : int\n",
        "        Ход первого игрока (0 - камень, 1 - бумага, 2 - ножницы).\n",
        "\n",
        "    right_move : int\n",
        "        Ход второго игрока (0 - камень, 1 - бумага, 2 - ножницы).\n",
        "\n",
        "    Возвращает:\n",
        "    ----------\n",
        "    float\n",
        "        Возвращает 1, если первый игрок выигрывает, -1, если проигрывает,\n",
        "        и 0, если ничья.\n",
        "    \"\"\"\n",
        "    delta = (\n",
        "        right_move - left_move\n",
        "        if (left_move + right_move) % 2 == 0\n",
        "        else left_move - right_move\n",
        "    )\n",
        "    return 0 if delta == 0 else math.copysign(1, delta)\n",
        "\n",
        "lastAction = None\n",
        "\n",
        "def win_random2(observation, configuration):\n",
        "    \"\"\"\n",
        "    Агент, который выбирает случайный ход, если он выиграл в предыдущем раунде.\n",
        "\n",
        "    Параметры:\n",
        "    ----------\n",
        "    observation : object\n",
        "        Объект, содержащий информацию о текущем состоянии игры, включая шаги и действия противника.\n",
        "\n",
        "    configuration : object\n",
        "        Объект, содержащий настройки игры, такие как количество доступных знаков.\n",
        "\n",
        "    Возвращает:\n",
        "    ----------\n",
        "    int\n",
        "        Возвращает следующий ход агента, основываясь на его предыдущем ходе и ходе противника.\n",
        "        На первом ходе или в случае выигрыша выбирается случайный ход.\n",
        "    \"\"\"\n",
        "    global lastAction\n",
        "    if observation.step == 0 or get_score(lastAction, observation.lastOpponentAction) == 1:\n",
        "        lastAction = random.randrange(0, configuration.signs)  # Случайный выбор\n",
        "    return lastAction"
      ]
    },
    {
      "cell_type": "code",
      "execution_count": null,
      "metadata": {
        "colab": {
          "base_uri": "https://localhost:8080/"
        },
        "id": "-TmAkC039siY",
        "outputId": "2f8542bb-b7bd-48ca-cf18-68f3677edafa"
      },
      "outputs": [
        {
          "output_type": "execute_result",
          "data": {
            "text/plain": [
              "[[-98.0, 98.0]]"
            ]
          },
          "metadata": {},
          "execution_count": 33
        }
      ],
      "source": [
        "evaluate(\n",
        "    \"rps\", #environment to use - no need to change\n",
        "    [\"win_random2.py\", \"statistical\"], #agents to evaluate\n",
        "    configuration={\"episodeSteps\": 100}, #number of episodes\n",
        ")"
      ]
    },
    {
      "cell_type": "markdown",
      "metadata": {
        "id": "I9mFgyki9siY"
      },
      "source": [
        "### 16. Агент играет по очереди камень, бумагу, ножницы"
      ]
    },
    {
      "cell_type": "code",
      "execution_count": null,
      "metadata": {
        "id": "UL-SxIcE9siY"
      },
      "outputs": [],
      "source": [
        "%%make_file sequence_agent.py\n",
        "\n",
        "counter = -1\n",
        "\n",
        "def sequence(observation, configuration):\n",
        "    \"\"\"\n",
        "    Агент, который выбирает ход в фиксированной последовательности: камень, бумага, ножницы.\n",
        "\n",
        "    Параметры:\n",
        "    ----------\n",
        "    observation : object\n",
        "        Объект, содержащий информацию о текущем состоянии игры, включая шаги и действия противника.\n",
        "\n",
        "    configuration : object\n",
        "        Объект, содержащий настройки игры, такие как количество доступных знаков.\n",
        "\n",
        "    Возвращает:\n",
        "    ----------\n",
        "    int\n",
        "        Возвращает следующий ход агента в последовательности:\n",
        "        - 0 - камень\n",
        "        - 1 - бумага\n",
        "        - 2 - ножницы\n",
        "    \"\"\"\n",
        "    global counter\n",
        "    counter += 1\n",
        "    if counter % 3 == 0:\n",
        "        return 0\n",
        "    elif counter % 3 == 1:\n",
        "        return 1\n",
        "    else:\n",
        "        return 2"
      ]
    },
    {
      "cell_type": "code",
      "execution_count": null,
      "metadata": {
        "colab": {
          "base_uri": "https://localhost:8080/"
        },
        "id": "djcBpjmm9siY",
        "outputId": "97b7e0f5-007c-4432-ddea-78d412b622e4"
      },
      "outputs": [
        {
          "output_type": "execute_result",
          "data": {
            "text/plain": [
              "[[0, 0]]"
            ]
          },
          "metadata": {},
          "execution_count": 35
        }
      ],
      "source": [
        "evaluate(\n",
        "    \"rps\", #environment to use - no need to change\n",
        "    [\"sequence_agent.py\", \"statistical\"], #agents to evaluate\n",
        "    configuration={\"episodeSteps\": 100}, #number of episodes\n",
        ")"
      ]
    },
    {
      "cell_type": "markdown",
      "source": [
        "###17. Агент предсказатель\n",
        "\n",
        "Эта стратегия пытается предсказать следующий ход противника, основываясь на его предыдущих действиях. Она отслеживает, какие ходы противник использовал чаще всего, и выбирает ход, который побеждает его наиболее вероятный следующий ход"
      ],
      "metadata": {
        "id": "gZ7LD8-r_fiq"
      }
    },
    {
      "cell_type": "code",
      "source": [
        "%%make_file predict_agent.py\n",
        "\n",
        "import random\n",
        "\n",
        "opponent_moves = {0: 0, 1: 0, 2: 0}\n",
        "\n",
        "def predictor_agent(observation, configuration):\n",
        "    \"\"\"\n",
        "    Агент, который предсказывает следующий ход противника на основе его предыдущих действий.\n",
        "\n",
        "    Параметры:\n",
        "    ----------\n",
        "    observation : object\n",
        "        Объект, содержащий информацию о текущем состоянии игры, включая шаги и действия противника.\n",
        "\n",
        "    configuration : object\n",
        "        Объект, содержащий настройки игры, такие как количество доступных знаков.\n",
        "\n",
        "    Возвращает:\n",
        "    ----------\n",
        "    int\n",
        "        Возвращает следующий ход агента, основываясь на наиболее частом ходе противника:\n",
        "        - 0 - камень\n",
        "        - 1 - бумага\n",
        "        - 2 - ножницы\n",
        "        На первом ходе выбирается случайный ход.\n",
        "    \"\"\"\n",
        "    global opponent_moves\n",
        "\n",
        "    if observation.step == 0:\n",
        "        return random.randrange(0, configuration.signs)\n",
        "\n",
        "    last_move = observation.lastOpponentAction\n",
        "    opponent_moves[last_move] += 1\n",
        "\n",
        "    most_common_move = max(opponent_moves, key=opponent_moves.get)\n",
        "\n",
        "    if most_common_move == 0:\n",
        "        return 1\n",
        "    elif most_common_move == 1:\n",
        "        return 2\n",
        "    elif most_common_move == 2:\n",
        "        return 0"
      ],
      "metadata": {
        "id": "W2z3B1hr_e5U"
      },
      "execution_count": null,
      "outputs": []
    },
    {
      "cell_type": "code",
      "source": [
        "evaluate(\n",
        "    \"rps\", #environment to use - no need to change\n",
        "    [\"predict_agent.py\", \"statistical\"], #agents to evaluate\n",
        "    configuration={\"episodeSteps\": 100}, #number of episodes\n",
        ")"
      ],
      "metadata": {
        "colab": {
          "base_uri": "https://localhost:8080/"
        },
        "id": "ZJy3__qj_e7x",
        "outputId": "0db33dd5-61ed-4f92-94cf-53212db52c2c"
      },
      "execution_count": null,
      "outputs": [
        {
          "output_type": "execute_result",
          "data": {
            "text/plain": [
              "[[0, 0]]"
            ]
          },
          "metadata": {},
          "execution_count": 37
        }
      ]
    },
    {
      "cell_type": "markdown",
      "metadata": {
        "id": "ExgIpXUVjbjN"
      },
      "source": [
        "Воспользуемся функцией evaluate из библиотеки kaggle_environments с помощью которой запустим наших агентов и проведем эксперимент на заданном количестве игр"
      ]
    },
    {
      "cell_type": "markdown",
      "metadata": {
        "id": "ADhzMEDG9siZ"
      },
      "source": [
        "# Турнир\n",
        "Составим список агентов, потом заставим их сыграть между собой по количеству times партий.\n",
        "Получившуюся статистику побед запишем в словарь и выведем в виде таблицы pandas"
      ]
    },
    {
      "cell_type": "code",
      "execution_count": null,
      "metadata": {
        "id": "-VekLa3g9siZ"
      },
      "outputs": [],
      "source": [
        "agents = ['rock_agent.py',\n",
        "          'paper_agent.py',\n",
        "          'scissors_agent.py',\n",
        "          'random_opponent.py',\n",
        "          'copy_opponent.py',\n",
        "          'copynext_opponent.py',\n",
        "          'copyprevious_opponent.py',\n",
        "          'opposit_agent.py',\n",
        "          'random3_opponent.py',\n",
        "          'win_reaction1.py',\n",
        "          'win_reaction2.py',\n",
        "          'win_opposit1.py',\n",
        "          'win_opposit2.py',\n",
        "          'win_random1.py',\n",
        "          'win_random2.py',\n",
        "          'sequence_agent.py',\n",
        "          'predict_agent.py']\n",
        "\n",
        "\n",
        "rank = {agent: 0 for agent in agents}\n",
        "\n",
        "for times in range(3):\n",
        "\n",
        "    for i in range(len(agents)):\n",
        "        for j in range(i+1, len(agents)):\n",
        "            e = evaluate(\n",
        "            \"rps\", #environment to use - no need to change\n",
        "            [agents[i], agents[j]], #agents to evaluate\n",
        "            configuration={\"episodeSteps\": 100, 'tieRewardThreshold': 1} #number of episodes\n",
        "            )\n",
        "            if e[0][0] > e[0][1]:\n",
        "                rank[agents[i]] += 1\n",
        "            elif e[0][0] < e[0][1]:\n",
        "                rank[agents[j]] += 1"
      ]
    },
    {
      "cell_type": "markdown",
      "metadata": {
        "id": "rgeqbK2R9siZ"
      },
      "source": [
        "# Турнирная таблица"
      ]
    },
    {
      "cell_type": "code",
      "execution_count": null,
      "metadata": {
        "colab": {
          "base_uri": "https://localhost:8080/",
          "height": 582
        },
        "id": "hlVSlm6o9sia",
        "outputId": "0730691a-dcd4-4c66-e800-0376dc7451ac"
      },
      "outputs": [
        {
          "output_type": "execute_result",
          "data": {
            "text/plain": [
              "                          Рейтинг турнира по количеству выигранных партий\n",
              "copynext_opponent.py                                                   38\n",
              "win_reaction1.py                                                       34\n",
              "win_reaction2.py                                                       33\n",
              "win_random1.py                                                         31\n",
              "predict_agent.py                                                       25\n",
              "opposit_agent.py                                                       23\n",
              "random_opponent.py                                                     23\n",
              "random3_opponent.py                                                    21\n",
              "scissors_agent.py                                                      21\n",
              "win_opposit1.py                                                        17\n",
              "rock_agent.py                                                          17\n",
              "paper_agent.py                                                         15\n",
              "copy_opponent.py                                                       15\n",
              "win_random2.py                                                         15\n",
              "copyprevious_opponent.py                                               13\n",
              "win_opposit2.py                                                        12\n",
              "sequence_agent.py                                                      10"
            ],
            "text/html": [
              "\n",
              "  <div id=\"df-b7da1189-0197-45be-b13e-34ecce16e0bc\" class=\"colab-df-container\">\n",
              "    <div>\n",
              "<style scoped>\n",
              "    .dataframe tbody tr th:only-of-type {\n",
              "        vertical-align: middle;\n",
              "    }\n",
              "\n",
              "    .dataframe tbody tr th {\n",
              "        vertical-align: top;\n",
              "    }\n",
              "\n",
              "    .dataframe thead th {\n",
              "        text-align: right;\n",
              "    }\n",
              "</style>\n",
              "<table border=\"1\" class=\"dataframe\">\n",
              "  <thead>\n",
              "    <tr style=\"text-align: right;\">\n",
              "      <th></th>\n",
              "      <th>Рейтинг турнира по количеству выигранных партий</th>\n",
              "    </tr>\n",
              "  </thead>\n",
              "  <tbody>\n",
              "    <tr>\n",
              "      <th>copynext_opponent.py</th>\n",
              "      <td>38</td>\n",
              "    </tr>\n",
              "    <tr>\n",
              "      <th>win_reaction1.py</th>\n",
              "      <td>34</td>\n",
              "    </tr>\n",
              "    <tr>\n",
              "      <th>win_reaction2.py</th>\n",
              "      <td>33</td>\n",
              "    </tr>\n",
              "    <tr>\n",
              "      <th>win_random1.py</th>\n",
              "      <td>31</td>\n",
              "    </tr>\n",
              "    <tr>\n",
              "      <th>predict_agent.py</th>\n",
              "      <td>25</td>\n",
              "    </tr>\n",
              "    <tr>\n",
              "      <th>opposit_agent.py</th>\n",
              "      <td>23</td>\n",
              "    </tr>\n",
              "    <tr>\n",
              "      <th>random_opponent.py</th>\n",
              "      <td>23</td>\n",
              "    </tr>\n",
              "    <tr>\n",
              "      <th>random3_opponent.py</th>\n",
              "      <td>21</td>\n",
              "    </tr>\n",
              "    <tr>\n",
              "      <th>scissors_agent.py</th>\n",
              "      <td>21</td>\n",
              "    </tr>\n",
              "    <tr>\n",
              "      <th>win_opposit1.py</th>\n",
              "      <td>17</td>\n",
              "    </tr>\n",
              "    <tr>\n",
              "      <th>rock_agent.py</th>\n",
              "      <td>17</td>\n",
              "    </tr>\n",
              "    <tr>\n",
              "      <th>paper_agent.py</th>\n",
              "      <td>15</td>\n",
              "    </tr>\n",
              "    <tr>\n",
              "      <th>copy_opponent.py</th>\n",
              "      <td>15</td>\n",
              "    </tr>\n",
              "    <tr>\n",
              "      <th>win_random2.py</th>\n",
              "      <td>15</td>\n",
              "    </tr>\n",
              "    <tr>\n",
              "      <th>copyprevious_opponent.py</th>\n",
              "      <td>13</td>\n",
              "    </tr>\n",
              "    <tr>\n",
              "      <th>win_opposit2.py</th>\n",
              "      <td>12</td>\n",
              "    </tr>\n",
              "    <tr>\n",
              "      <th>sequence_agent.py</th>\n",
              "      <td>10</td>\n",
              "    </tr>\n",
              "  </tbody>\n",
              "</table>\n",
              "</div>\n",
              "    <div class=\"colab-df-buttons\">\n",
              "\n",
              "  <div class=\"colab-df-container\">\n",
              "    <button class=\"colab-df-convert\" onclick=\"convertToInteractive('df-b7da1189-0197-45be-b13e-34ecce16e0bc')\"\n",
              "            title=\"Convert this dataframe to an interactive table.\"\n",
              "            style=\"display:none;\">\n",
              "\n",
              "  <svg xmlns=\"http://www.w3.org/2000/svg\" height=\"24px\" viewBox=\"0 -960 960 960\">\n",
              "    <path d=\"M120-120v-720h720v720H120Zm60-500h600v-160H180v160Zm220 220h160v-160H400v160Zm0 220h160v-160H400v160ZM180-400h160v-160H180v160Zm440 0h160v-160H620v160ZM180-180h160v-160H180v160Zm440 0h160v-160H620v160Z\"/>\n",
              "  </svg>\n",
              "    </button>\n",
              "\n",
              "  <style>\n",
              "    .colab-df-container {\n",
              "      display:flex;\n",
              "      gap: 12px;\n",
              "    }\n",
              "\n",
              "    .colab-df-convert {\n",
              "      background-color: #E8F0FE;\n",
              "      border: none;\n",
              "      border-radius: 50%;\n",
              "      cursor: pointer;\n",
              "      display: none;\n",
              "      fill: #1967D2;\n",
              "      height: 32px;\n",
              "      padding: 0 0 0 0;\n",
              "      width: 32px;\n",
              "    }\n",
              "\n",
              "    .colab-df-convert:hover {\n",
              "      background-color: #E2EBFA;\n",
              "      box-shadow: 0px 1px 2px rgba(60, 64, 67, 0.3), 0px 1px 3px 1px rgba(60, 64, 67, 0.15);\n",
              "      fill: #174EA6;\n",
              "    }\n",
              "\n",
              "    .colab-df-buttons div {\n",
              "      margin-bottom: 4px;\n",
              "    }\n",
              "\n",
              "    [theme=dark] .colab-df-convert {\n",
              "      background-color: #3B4455;\n",
              "      fill: #D2E3FC;\n",
              "    }\n",
              "\n",
              "    [theme=dark] .colab-df-convert:hover {\n",
              "      background-color: #434B5C;\n",
              "      box-shadow: 0px 1px 3px 1px rgba(0, 0, 0, 0.15);\n",
              "      filter: drop-shadow(0px 1px 2px rgba(0, 0, 0, 0.3));\n",
              "      fill: #FFFFFF;\n",
              "    }\n",
              "  </style>\n",
              "\n",
              "    <script>\n",
              "      const buttonEl =\n",
              "        document.querySelector('#df-b7da1189-0197-45be-b13e-34ecce16e0bc button.colab-df-convert');\n",
              "      buttonEl.style.display =\n",
              "        google.colab.kernel.accessAllowed ? 'block' : 'none';\n",
              "\n",
              "      async function convertToInteractive(key) {\n",
              "        const element = document.querySelector('#df-b7da1189-0197-45be-b13e-34ecce16e0bc');\n",
              "        const dataTable =\n",
              "          await google.colab.kernel.invokeFunction('convertToInteractive',\n",
              "                                                    [key], {});\n",
              "        if (!dataTable) return;\n",
              "\n",
              "        const docLinkHtml = 'Like what you see? Visit the ' +\n",
              "          '<a target=\"_blank\" href=https://colab.research.google.com/notebooks/data_table.ipynb>data table notebook</a>'\n",
              "          + ' to learn more about interactive tables.';\n",
              "        element.innerHTML = '';\n",
              "        dataTable['output_type'] = 'display_data';\n",
              "        await google.colab.output.renderOutput(dataTable, element);\n",
              "        const docLink = document.createElement('div');\n",
              "        docLink.innerHTML = docLinkHtml;\n",
              "        element.appendChild(docLink);\n",
              "      }\n",
              "    </script>\n",
              "  </div>\n",
              "\n",
              "\n",
              "<div id=\"df-0f60cb0d-1575-4cd8-b0b0-a9eeeba7f938\">\n",
              "  <button class=\"colab-df-quickchart\" onclick=\"quickchart('df-0f60cb0d-1575-4cd8-b0b0-a9eeeba7f938')\"\n",
              "            title=\"Suggest charts\"\n",
              "            style=\"display:none;\">\n",
              "\n",
              "<svg xmlns=\"http://www.w3.org/2000/svg\" height=\"24px\"viewBox=\"0 0 24 24\"\n",
              "     width=\"24px\">\n",
              "    <g>\n",
              "        <path d=\"M19 3H5c-1.1 0-2 .9-2 2v14c0 1.1.9 2 2 2h14c1.1 0 2-.9 2-2V5c0-1.1-.9-2-2-2zM9 17H7v-7h2v7zm4 0h-2V7h2v10zm4 0h-2v-4h2v4z\"/>\n",
              "    </g>\n",
              "</svg>\n",
              "  </button>\n",
              "\n",
              "<style>\n",
              "  .colab-df-quickchart {\n",
              "      --bg-color: #E8F0FE;\n",
              "      --fill-color: #1967D2;\n",
              "      --hover-bg-color: #E2EBFA;\n",
              "      --hover-fill-color: #174EA6;\n",
              "      --disabled-fill-color: #AAA;\n",
              "      --disabled-bg-color: #DDD;\n",
              "  }\n",
              "\n",
              "  [theme=dark] .colab-df-quickchart {\n",
              "      --bg-color: #3B4455;\n",
              "      --fill-color: #D2E3FC;\n",
              "      --hover-bg-color: #434B5C;\n",
              "      --hover-fill-color: #FFFFFF;\n",
              "      --disabled-bg-color: #3B4455;\n",
              "      --disabled-fill-color: #666;\n",
              "  }\n",
              "\n",
              "  .colab-df-quickchart {\n",
              "    background-color: var(--bg-color);\n",
              "    border: none;\n",
              "    border-radius: 50%;\n",
              "    cursor: pointer;\n",
              "    display: none;\n",
              "    fill: var(--fill-color);\n",
              "    height: 32px;\n",
              "    padding: 0;\n",
              "    width: 32px;\n",
              "  }\n",
              "\n",
              "  .colab-df-quickchart:hover {\n",
              "    background-color: var(--hover-bg-color);\n",
              "    box-shadow: 0 1px 2px rgba(60, 64, 67, 0.3), 0 1px 3px 1px rgba(60, 64, 67, 0.15);\n",
              "    fill: var(--button-hover-fill-color);\n",
              "  }\n",
              "\n",
              "  .colab-df-quickchart-complete:disabled,\n",
              "  .colab-df-quickchart-complete:disabled:hover {\n",
              "    background-color: var(--disabled-bg-color);\n",
              "    fill: var(--disabled-fill-color);\n",
              "    box-shadow: none;\n",
              "  }\n",
              "\n",
              "  .colab-df-spinner {\n",
              "    border: 2px solid var(--fill-color);\n",
              "    border-color: transparent;\n",
              "    border-bottom-color: var(--fill-color);\n",
              "    animation:\n",
              "      spin 1s steps(1) infinite;\n",
              "  }\n",
              "\n",
              "  @keyframes spin {\n",
              "    0% {\n",
              "      border-color: transparent;\n",
              "      border-bottom-color: var(--fill-color);\n",
              "      border-left-color: var(--fill-color);\n",
              "    }\n",
              "    20% {\n",
              "      border-color: transparent;\n",
              "      border-left-color: var(--fill-color);\n",
              "      border-top-color: var(--fill-color);\n",
              "    }\n",
              "    30% {\n",
              "      border-color: transparent;\n",
              "      border-left-color: var(--fill-color);\n",
              "      border-top-color: var(--fill-color);\n",
              "      border-right-color: var(--fill-color);\n",
              "    }\n",
              "    40% {\n",
              "      border-color: transparent;\n",
              "      border-right-color: var(--fill-color);\n",
              "      border-top-color: var(--fill-color);\n",
              "    }\n",
              "    60% {\n",
              "      border-color: transparent;\n",
              "      border-right-color: var(--fill-color);\n",
              "    }\n",
              "    80% {\n",
              "      border-color: transparent;\n",
              "      border-right-color: var(--fill-color);\n",
              "      border-bottom-color: var(--fill-color);\n",
              "    }\n",
              "    90% {\n",
              "      border-color: transparent;\n",
              "      border-bottom-color: var(--fill-color);\n",
              "    }\n",
              "  }\n",
              "</style>\n",
              "\n",
              "  <script>\n",
              "    async function quickchart(key) {\n",
              "      const quickchartButtonEl =\n",
              "        document.querySelector('#' + key + ' button');\n",
              "      quickchartButtonEl.disabled = true;  // To prevent multiple clicks.\n",
              "      quickchartButtonEl.classList.add('colab-df-spinner');\n",
              "      try {\n",
              "        const charts = await google.colab.kernel.invokeFunction(\n",
              "            'suggestCharts', [key], {});\n",
              "      } catch (error) {\n",
              "        console.error('Error during call to suggestCharts:', error);\n",
              "      }\n",
              "      quickchartButtonEl.classList.remove('colab-df-spinner');\n",
              "      quickchartButtonEl.classList.add('colab-df-quickchart-complete');\n",
              "    }\n",
              "    (() => {\n",
              "      let quickchartButtonEl =\n",
              "        document.querySelector('#df-0f60cb0d-1575-4cd8-b0b0-a9eeeba7f938 button');\n",
              "      quickchartButtonEl.style.display =\n",
              "        google.colab.kernel.accessAllowed ? 'block' : 'none';\n",
              "    })();\n",
              "  </script>\n",
              "</div>\n",
              "    </div>\n",
              "  </div>\n"
            ],
            "application/vnd.google.colaboratory.intrinsic+json": {
              "type": "dataframe",
              "variable_name": "rank_se",
              "summary": "{\n  \"name\": \"rank_se\",\n  \"rows\": 17,\n  \"fields\": [\n    {\n      \"column\": \"\\u0420\\u0435\\u0439\\u0442\\u0438\\u043d\\u0433 \\u0442\\u0443\\u0440\\u043d\\u0438\\u0440\\u0430 \\u043f\\u043e \\u043a\\u043e\\u043b\\u0438\\u0447\\u0435\\u0441\\u0442\\u0432\\u0443 \\u0432\\u044b\\u0438\\u0433\\u0440\\u0430\\u043d\\u043d\\u044b\\u0445 \\u043f\\u0430\\u0440\\u0442\\u0438\\u0439\",\n      \"properties\": {\n        \"dtype\": \"number\",\n        \"std\": 8,\n        \"min\": 10,\n        \"max\": 38,\n        \"num_unique_values\": 12,\n        \"samples\": [\n          12,\n          13,\n          38\n        ],\n        \"semantic_type\": \"\",\n        \"description\": \"\"\n      }\n    }\n  ]\n}"
            }
          },
          "metadata": {},
          "execution_count": 39
        }
      ],
      "source": [
        "rank_se = pd.Series(rank, name=\"Рейтинг турнира по количеству выигранных партий\").sort_values(ascending=False).to_frame()\n",
        "rank_se"
      ]
    },
    {
      "cell_type": "code",
      "source": [
        "plt.figure(figsize=(12, 6))\n",
        "plt.barh(rank_se.index.tolist(), sum(rank_se.values.tolist(), []) , color='skyblue')\n",
        "plt.xlabel('Количество выигранных партий')\n",
        "plt.title('Рейтинг турнира по количеству выигранных партий')\n",
        "plt.gca().invert_yaxis()\n",
        "plt.xticks(range(0, max(sum(rank_se.values.tolist(), []) ) + 1, 2))\n",
        "plt.grid(axis='x', linestyle='--', alpha=0.7)\n",
        "\n",
        "top_3_wins = sum(rank_se.values.tolist(), [])[:4]\n",
        "top_3_threshold = min(top_3_wins)\n",
        "\n",
        "plt.axvline(x=top_3_threshold, color='red', linestyle='--', linewidth=2, label='Топ-3 порог')\n",
        "\n",
        "plt.legend()\n",
        "\n",
        "plt.show()"
      ],
      "metadata": {
        "colab": {
          "base_uri": "https://localhost:8080/",
          "height": 564
        },
        "id": "kdrXvsPNAvHK",
        "outputId": "69207c8f-c28c-4967-e7d2-53742be2ba69"
      },
      "execution_count": null,
      "outputs": [
        {
          "output_type": "display_data",
          "data": {
            "text/plain": [
              "<Figure size 1200x600 with 1 Axes>"
            ],
            "image/png": "[encoded data removed]"
          },
          "metadata": {}
        }
      ]
    }
  ],
  "metadata": {
    "colab": {
      "provenance": [],
      "include_colab_link": true
    },
    "kernelspec": {
      "display_name": "Python 3 (ipykernel)",
      "language": "python",
      "name": "python3"
    },
    "language_info": {
      "codemirror_mode": {
        "name": "ipython",
        "version": 3
      },
      "file_extension": ".py",
      "mimetype": "text/x-python",
      "name": "python",
      "nbconvert_exporter": "python",
      "pygments_lexer": "ipython3",
      "version": "3.9.12"
    },
    "vscode": {
      "interpreter": {
        "hash": "f753dde58ddb99e3e3a8a3f6ff6bb163e9afd007b68b7c9487cb38bca28a3c09"
      }
    }
  },
  "nbformat": 4,
  "nbformat_minor": 0
}